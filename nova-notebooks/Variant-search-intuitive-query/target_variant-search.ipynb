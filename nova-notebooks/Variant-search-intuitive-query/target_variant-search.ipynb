{
 "cells": [
  {
   "cell_type": "code",
   "execution_count": null,
   "id": "25696902-9883-408d-aa0e-f5d67add4574",
   "metadata": {},
   "outputs": [],
   "source": []
  },
  {
   "cell_type": "code",
   "execution_count": null,
   "id": "919d67fd",
   "metadata": {},
   "outputs": [],
   "source": [
    "import pandas as pd\n",
    "\n",
    "# Read the TSV file\n",
    "df = pd.read_csv('~/brca_test_data/output/variants_output.tsv', sep='\\t')\n",
    "\n",
    "# Search for the specific variant c.548-17G>T\n",
    "target_variant = 'c.548-17G>T'\n",
    "print(f'Searching for variant: {target_variant}')\n",
    "print('=' * 50)\n",
    "\n",
    "# Find the variant in the cdna column\n",
    "matches = df[df['cdna'].astype(str).str.contains(target_variant, case=False, na=False)]\n",
    "\n",
    "if not matches.empty:\n",
    "    for idx, row in matches.iterrows():\n",
    "        print(f'Variant: {row[\"cdna\"]}')\n",
    "        print(f'Reference base (ref): {row[\"ref\"]}')\n",
    "        print(f'Alternative base (alt): {row[\"alt\"]}')\n",
    "        print(f'Genomic position: {row[\"pos\"]}')\n",
    "        print(f'Chromosome: {row[\"chr\"]}')\n",
    "        print(f'Genomic HGVS (GRCh38): {row[\"genomic_hgvs_38\"]}')\n",
    "        if pd.notna(row.get(\"genomic_hgvs_37\")):\n",
    "            print(f'Genomic HGVS (GRCh37): {row[\"genomic_hgvs_37\"]}')\n",
    "        print()\n",
    "        print('Summary:')\n",
    "        print(f'  • Reference DNA base: {row[\"ref\"]}')\n",
    "        print(f'  • Alternative DNA base: {row[\"alt\"]}')\n",
    "        print(f'  • This corresponds to the cDNA change: {target_variant}')\n",
    "else:\n",
    "    print(f'Variant {target_variant} not found in the dataset.')"
   ]
  },
  {
   "cell_type": "code",
   "execution_count": null,
   "id": "65182327-2e6c-4d8d-8e4c-6e2ef3c772da",
   "metadata": {},
   "outputs": [],
   "source": []
  }
 ],
 "metadata": {
  "kernelspec": {
   "display_name": "CamberPy",
   "language": "python",
   "name": "python3"
  },
  "language_info": {
   "codemirror_mode": {
    "name": "ipython",
    "version": 3
   },
   "file_extension": ".py",
   "mimetype": "text/x-python",
   "name": "python",
   "nbconvert_exporter": "python",
   "pygments_lexer": "ipython3",
   "version": "3.12.7"
  }
 },
 "nbformat": 4,
 "nbformat_minor": 5
}
